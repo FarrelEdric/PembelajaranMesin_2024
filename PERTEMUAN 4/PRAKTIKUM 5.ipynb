{
 "cells": [
  {
   "cell_type": "code",
   "execution_count": 2,
   "metadata": {},
   "outputs": [],
   "source": [
    "# Import Required Libraries\n",
    "from pathlib import Path\n",
    "import matplotlib.image as mpimg\n",
    "import matplotlib.pyplot as plt\n",
    "import cv2\n",
    "import random\n",
    "import numpy as np\n",
    "import pandas as pd"
   ]
  },
  {
   "cell_type": "code",
   "execution_count": 3,
   "metadata": {},
   "outputs": [],
   "source": [
    "# Image directories\n",
    "train_dir = \"images/training/\"\n",
    "test_dir = \"images/test/\""
   ]
  },
  {
   "cell_type": "code",
   "execution_count": 4,
   "metadata": {},
   "outputs": [],
   "source": [
    "def load_dataset(img_dir):\n",
    "    p = Path(img_dir)\n",
    "    dirs = p.glob('*')\n",
    "\n",
    "    img_list = []\n",
    "\n",
    "    for dir in dirs:\n",
    "        label = str(dir).split('/')[-1]\n",
    "        for file in dir.glob('*.jpg'):\n",
    "            img = mpimg.imread(file)\n",
    "\n",
    "            if not img is None:\n",
    "                img_list.append((img, label))\n",
    "    \n",
    "    return img_list"
   ]
  },
  {
   "cell_type": "code",
   "execution_count": 5,
   "metadata": {},
   "outputs": [],
   "source": [
    "# Load training data\n",
    "train_img = load_dataset(train_dir)"
   ]
  },
  {
   "cell_type": "code",
   "execution_count": 6,
   "metadata": {},
   "outputs": [],
   "source": [
    "import numpy as np\n",
    "\n",
    "# Ensure train_img is not empty\n",
    "if len(train_img) > 0:\n",
    "    # Pick a random index\n",
    "    pick_random = np.random.randint(0, len(train_img))\n",
    "\n",
    "    # Check image size\n",
    "    print(f'Image {pick_random}')\n",
    "    print(train_img[pick_random][0].shape)\n",
    "\n"
   ]
  },
  {
   "cell_type": "code",
   "execution_count": 7,
   "metadata": {},
   "outputs": [],
   "source": [
    "# Function to Visualize\n",
    "def random_img_viz(img_list):\n",
    "    rand_num = np.random.randint(0, len(img_list))\n",
    "\n",
    "    img = img_list[rand_num][0]\n",
    "    label = img_list[rand_num][1]\n",
    "    label_str = 'day' if label == 1 else 'night'\n",
    "\n",
    "    plt.imshow(img)\n",
    "    print(f'Shape\\t: {img.shape}')\n",
    "    print(f'Label\\t: {label}')\n",
    "    "
   ]
  },
  {
   "cell_type": "code",
   "execution_count": 8,
   "metadata": {},
   "outputs": [
    {
     "ename": "ValueError",
     "evalue": "high <= 0",
     "output_type": "error",
     "traceback": [
      "\u001b[1;31m---------------------------------------------------------------------------\u001b[0m",
      "\u001b[1;31mValueError\u001b[0m                                Traceback (most recent call last)",
      "Cell \u001b[1;32mIn[8], line 1\u001b[0m\n\u001b[1;32m----> 1\u001b[0m \u001b[43mrandom_img_viz\u001b[49m\u001b[43m(\u001b[49m\u001b[43mtrain_img\u001b[49m\u001b[43m)\u001b[49m\n",
      "Cell \u001b[1;32mIn[7], line 3\u001b[0m, in \u001b[0;36mrandom_img_viz\u001b[1;34m(img_list)\u001b[0m\n\u001b[0;32m      2\u001b[0m \u001b[38;5;28;01mdef\u001b[39;00m \u001b[38;5;21mrandom_img_viz\u001b[39m(img_list):\n\u001b[1;32m----> 3\u001b[0m     rand_num \u001b[38;5;241m=\u001b[39m \u001b[43mnp\u001b[49m\u001b[38;5;241;43m.\u001b[39;49m\u001b[43mrandom\u001b[49m\u001b[38;5;241;43m.\u001b[39;49m\u001b[43mrandint\u001b[49m\u001b[43m(\u001b[49m\u001b[38;5;241;43m0\u001b[39;49m\u001b[43m,\u001b[49m\u001b[43m \u001b[49m\u001b[38;5;28;43mlen\u001b[39;49m\u001b[43m(\u001b[49m\u001b[43mimg_list\u001b[49m\u001b[43m)\u001b[49m\u001b[43m)\u001b[49m\n\u001b[0;32m      5\u001b[0m     img \u001b[38;5;241m=\u001b[39m img_list[rand_num][\u001b[38;5;241m0\u001b[39m]\n\u001b[0;32m      6\u001b[0m     label \u001b[38;5;241m=\u001b[39m img_list[rand_num][\u001b[38;5;241m1\u001b[39m]\n",
      "File \u001b[1;32mnumpy\\\\random\\\\mtrand.pyx:780\u001b[0m, in \u001b[0;36mnumpy.random.mtrand.RandomState.randint\u001b[1;34m()\u001b[0m\n",
      "File \u001b[1;32mnumpy\\\\random\\\\_bounded_integers.pyx:1425\u001b[0m, in \u001b[0;36mnumpy.random._bounded_integers._rand_int32\u001b[1;34m()\u001b[0m\n",
      "\u001b[1;31mValueError\u001b[0m: high <= 0"
     ]
    }
   ],
   "source": [
    "random_img_viz(train_img)"
   ]
  }
 ],
 "metadata": {
  "kernelspec": {
   "display_name": "base",
   "language": "python",
   "name": "python3"
  },
  "language_info": {
   "codemirror_mode": {
    "name": "ipython",
    "version": 3
   },
   "file_extension": ".py",
   "mimetype": "text/x-python",
   "name": "python",
   "nbconvert_exporter": "python",
   "pygments_lexer": "ipython3",
   "version": "3.12.3"
  }
 },
 "nbformat": 4,
 "nbformat_minor": 2
}
